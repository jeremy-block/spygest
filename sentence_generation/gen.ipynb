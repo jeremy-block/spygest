{
 "cells": [
  {
   "cell_type": "code",
   "execution_count": 3,
   "id": "07cfd9aa",
   "metadata": {},
   "outputs": [],
   "source": [
    "from data_processing.parse_manifest import Parser\n",
    "from data_type.extracted_data import ExtractedData\n",
    "from data_type.interaction_data import InteractionData\n",
    "from data_type.entity_data import EntityData"
   ]
  },
  {
   "cell_type": "code",
   "execution_count": 4,
   "id": "47d03ef1",
   "metadata": {},
   "outputs": [],
   "source": [
    "def printer(name, arr):\n",
    "    print(f\"==={name}===\")\n",
    "    for item in arr:\n",
    "        print(item)\n",
    "    print(\" \")"
   ]
  },
  {
   "cell_type": "code",
   "execution_count": 5,
   "id": "00df4124",
   "metadata": {},
   "outputs": [],
   "source": [
    "manifest_parser = Parser(\"../original_web_interface/ApplicationManifest.json\")\n",
    "arms_P1_parser = Parser(\"../data/Dataset_1/User Interactions/Arms_P1_InteractionsLogs.json\")\n",
    "arms_entity_parser = Parser(\"../data/Dataset_1/Documents/Entities_Dataset_1.json\")"
   ]
  },
  {
   "cell_type": "code",
   "execution_count": 6,
   "id": "4bf0c921",
   "metadata": {},
   "outputs": [],
   "source": [
    "manifest_data = ExtractedData(manifest_parser.get_manifest_superlatives_user(0,0))\n",
    "arms_P1_data = InteractionData(arms_P1_parser.get_logs_from_idx(0))\n",
    "arms_entity_data = EntityData(arms_entity_parser.get_entities_from_idx(0))"
   ]
  },
  {
   "cell_type": "code",
   "execution_count": 7,
   "id": "9bb234a2",
   "metadata": {},
   "outputs": [
    {
     "name": "stdout",
     "output_type": "stream",
     "text": [
      "===extracted properties===\n",
      "totalInteractions\n",
      "segCount\n",
      "meanInteractions\n",
      "sumSquaresInteractions\n",
      "stdIntRate\n",
      "topicCount\n",
      "allTopics\n",
      "topics\n",
      "searchCount\n",
      "mostSearchesinSeg\n",
      "mostSearchSeg\n",
      "searches\n",
      "breakpointSearches\n",
      "openCount\n",
      "opens\n",
      "mostOpensinSeg\n",
      "newestSeg\n",
      "dataCoverage\n",
      "longestSegTime\n",
      "longSeg\n",
      "longOpenRate\n",
      "mostActive\n",
      "mostActiveSegment\n",
      "topicCounter\n",
      " \n",
      "===interaction properties===\n",
      "duration\n",
      "text\n",
      "interactionType\n",
      "id\n",
      "time\n",
      " \n",
      "===named entities===\n",
      "id\n",
      "Geos\n",
      "People\n",
      " \n"
     ]
    }
   ],
   "source": [
    "printer(\"extracted properties\", list(vars(manifest_data).keys()))\n",
    "printer(\"interaction properties\", list(vars(arms_P1_data).keys()))\n",
    "printer(\"named entities\", list(vars(arms_entity_data).keys()))"
   ]
  }
 ],
 "metadata": {
  "kernelspec": {
   "display_name": "py38",
   "language": "python",
   "name": "py38"
  },
  "language_info": {
   "codemirror_mode": {
    "name": "ipython",
    "version": 3
   },
   "file_extension": ".py",
   "mimetype": "text/x-python",
   "name": "python",
   "nbconvert_exporter": "python",
   "pygments_lexer": "ipython3",
   "version": "3.8.10"
  }
 },
 "nbformat": 4,
 "nbformat_minor": 5
}
