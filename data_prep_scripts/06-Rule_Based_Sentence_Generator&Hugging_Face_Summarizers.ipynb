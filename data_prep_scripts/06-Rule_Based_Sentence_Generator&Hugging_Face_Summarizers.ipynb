{
 "cells": [
  {
   "cell_type": "code",
   "execution_count": null,
   "id": "20562be0",
   "metadata": {},
   "outputs": [],
   "source": [
    "import json\n",
    "import re"
   ]
  },
  {
   "attachments": {},
   "cell_type": "markdown",
   "id": "94fe2a45",
   "metadata": {},
   "source": [
    "#### Document Logs"
   ]
  },
  {
   "cell_type": "code",
   "execution_count": null,
   "id": "a0aeb900",
   "metadata": {},
   "outputs": [],
   "source": [
    "dataset = 1\n",
    "file_path = '../data/Dataset_'+str(dataset)+'/Documents/Documents_Dataset_'+str(dataset)+'.json'\n",
    "with open(file_path, 'r', encoding='utf-8') as file:\n",
    "    data = json.load(file)"
   ]
  },
  {
   "cell_type": "code",
   "execution_count": null,
   "id": "ca459751",
   "metadata": {},
   "outputs": [],
   "source": [
    "data"
   ]
  },
  {
   "attachments": {},
   "cell_type": "markdown",
   "id": "ec4ab580",
   "metadata": {},
   "source": [
    "#### tf-idf Document Logs"
   ]
  },
  {
   "cell_type": "code",
   "execution_count": null,
   "id": "c7f591c1",
   "metadata": {},
   "outputs": [],
   "source": [
    "dataset = 1\n",
    "file_path = '../data/Dataset_'+str(dataset)+'/Documents/Document_Histograms_Dataset_'+str(dataset)+'.json'\n",
    "file = open(file_path)\n",
    "data = json.load(file)"
   ]
  },
  {
   "cell_type": "code",
   "execution_count": null,
   "id": "af310529",
   "metadata": {},
   "outputs": [],
   "source": [
    "for item in data:\n",
    "    print(item)"
   ]
  },
  {
   "cell_type": "code",
   "execution_count": null,
   "id": "e3f7de31",
   "metadata": {},
   "outputs": [],
   "source": [
    "print(data['words'])"
   ]
  },
  {
   "cell_type": "code",
   "execution_count": null,
   "id": "794e8204",
   "metadata": {},
   "outputs": [],
   "source": []
  },
  {
   "cell_type": "code",
   "execution_count": null,
   "id": "7b77a7b9",
   "metadata": {},
   "outputs": [],
   "source": []
  },
  {
   "cell_type": "code",
   "execution_count": null,
   "id": "6187576c",
   "metadata": {},
   "outputs": [],
   "source": []
  },
  {
   "cell_type": "code",
   "execution_count": null,
   "id": "080feef4",
   "metadata": {},
   "outputs": [],
   "source": []
  },
  {
   "attachments": {},
   "cell_type": "markdown",
   "id": "9f7f5a03",
   "metadata": {},
   "source": [
    "#### Interaction Logs"
   ]
  },
  {
   "cell_type": "code",
   "execution_count": null,
   "id": "098631f4",
   "metadata": {},
   "outputs": [],
   "source": [
    "datasets = 3 \n",
    "persons = 8\n",
    "dataset_names = ['Dummy','Arms','Terrorist','Disappearance'] # loop over"
   ]
  },
  {
   "cell_type": "code",
   "execution_count": null,
   "id": "bf7c24d1",
   "metadata": {},
   "outputs": [],
   "source": [
    "def load_json_data_from_file(file_path):\n",
    "    with open(file_path, 'r', encoding='utf-8') as file:\n",
    "        data = json.load(file)\n",
    "    file.close()\n",
    "    return data"
   ]
  },
  {
   "cell_type": "code",
   "execution_count": null,
   "id": "727c2abd",
   "metadata": {},
   "outputs": [],
   "source": [
    "def write_json_data_to_file(file_path, data):\n",
    "    with open(file_path, 'w') as file:\n",
    "            d = json.dumps(data, indent=4, ensure_ascii=False)\n",
    "            file.write(d)\n",
    "    file.close()\n",
    "    print(\"file written to \",file_path)"
   ]
  },
  {
   "cell_type": "code",
   "execution_count": null,
   "id": "76bb279e",
   "metadata": {},
   "outputs": [],
   "source": [
    "interactiontypes=[\n",
    "    \"Mouse_hover\",\n",
    "    \"Draging\",\n",
    "    \"Doc_open\",\n",
    "    \"Reading\",\n",
    "    \"Connection\",\n",
    "    \"Highlight\",\n",
    "    \"Topic_change\",\n",
    "    \"Think_aloud\",\n",
    "    \"Search\",\n",
    "    \"Create Note\",\n",
    "    \"Add note\"\n",
    "]"
   ]
  },
  {
   "cell_type": "code",
   "execution_count": null,
   "id": "678adef1",
   "metadata": {},
   "outputs": [],
   "source": [
    "def addsummary(item):\n",
    "    interactiontype = item[\"interactionType\"]\n",
    "    try:\n",
    "        if interactiontype == 'Mouse_hover':\n",
    "            newItem = {\n",
    "                \"duration\" : item[\"duration\"],\n",
    "                \"text\" : item[\"text\"],\n",
    "                \"interactionType\" : item[\"interactionType\"],\n",
    "                \"id\" : item[\"id\"],\n",
    "                \"time\" : item[\"time\"],   \n",
    "                \"summary\" : \"mouse hovered over \"+str(item[\"id\"])#+\" for \"+str(item[\"duration\"])+\" seconds \"\n",
    "            }\n",
    "            \n",
    "            #item[\"summary\"] = \"mouse hovered over\"+str(item[\"id\"])#+\" for \"+str(item[\"duration\"])+\" seconds \"\n",
    "    \n",
    "        elif interactiontype == 'Draging':\n",
    "            newItem = {\n",
    "                \"duration\" : item[\"duration\"],\n",
    "                \"text\" : item[\"text\"],\n",
    "                \"interactionType\" : item[\"interactionType\"],\n",
    "                \"id\" : item[\"id\"],\n",
    "                \"time\" : item[\"time\"],\n",
    "                \"summary\" : \"dragged over document \"+str(item[\"id\"])# +\" for \"+str(item[\"duration\"])+\" seconds \"\n",
    "            }\n",
    "            \n",
    "            #item[\"summary\"] = \"dragged over document \"+str(item[\"id\"])# +\" for \"+str(item[\"duration\"])+\" seconds \"\n",
    "    \n",
    "        elif interactiontype == 'Doc_open':\n",
    "            newItem = {\n",
    "                \"duration\" : item[\"duration\"],\n",
    "                \"text\" : item[\"text\"],\n",
    "                \"interactionType\" : item[\"interactionType\"],\n",
    "                \"id\" : item[\"id\"],\n",
    "                \"time\" : item[\"time\"],\n",
    "                \"summary\" : \"opened document \"+str(item[\"id\"])# +\" for \"+str(item[\"duration\"])+\" seconds \"\n",
    "            }\n",
    "            #item[\"summary\"] = \"opened document \"+str(item[\"id\"])# +\" for \"+str(item[\"duration\"])+\" seconds \"\n",
    "    \n",
    "        elif interactiontype == 'Reading':\n",
    "            newItem = {\n",
    "                \"duration\" : item[\"duration\"],\n",
    "                \"text\" : item[\"text\"],\n",
    "                \"interactionType\" : item[\"interactionType\"],\n",
    "                \"id\" : item[\"id\"],\n",
    "                \"time\" : item[\"time\"],\n",
    "                \"summary\" : \"read document \"+str(item[\"id\"])# +\" for \"+str(item[\"duration\"])+\" seconds \"\n",
    "            }\n",
    "            #item[\"summary\"] = \"read document \"+str(item[\"id\"])# +\" for \"+str(item[\"duration\"])+\" seconds \"\n",
    "    \n",
    "        elif interactiontype == 'Connection':\n",
    "            newItem = {\n",
    "                \"duration\" : item[\"duration\"],\n",
    "                \"text\" : item[\"text\"],\n",
    "                \"interactionType\" : item[\"interactionType\"],\n",
    "                \"id\" : item[\"id\"],\n",
    "                \"time\" : item[\"time\"],\n",
    "                \"summary\" : \"connected \"+str(item[\"id\"])# +\" for \"+str(item[\"duration\"])+\" seconds \"\n",
    "            }\n",
    "            #item[\"summary\"] = \"connected \"+str(item[\"text\"])# +\" for \"+str(item[\"duration\"])+\" seconds \"\n",
    "    \n",
    "        elif interactiontype == 'Highlight':\n",
    "            newItem = {\n",
    "                \"duration\" : item[\"duration\"],\n",
    "                \"text\" : item[\"text\"],\n",
    "                \"interactionType\" : item[\"interactionType\"],\n",
    "                \"id\" : item[\"id\"],\n",
    "                \"time\" : item[\"time\"],\n",
    "                \"summary\" : \"highlighted \"+str(item[\"text\"])+\" in document \"+str(item[\"id\"])# +\" for \"+str(item[\"duration\"])+\" seconds \"\n",
    "            }\n",
    "            #item[\"summary\"] = \"highlighted \"+str(item[\"text\"])+\" in document \"+str(item[\"id\"])# +\" for \"+str(item[\"duration\"])+\" seconds \"\n",
    "    \n",
    "        elif interactiontype == 'Topic_change':\n",
    "            newItem = {\n",
    "                \"duration\" : item[\"duration\"],\n",
    "                \"text\" : item[\"text\"],\n",
    "                \"interactionType\" : item[\"interactionType\"],\n",
    "                \"id\" : item[\"id\"],\n",
    "                \"time\" : item[\"time\"],\n",
    "                \"summary\" : \"changed topic \"+str(item[\"text\"])# +\" for \"+str(item[\"duration\"])+\" seconds \"\n",
    "            }\n",
    "            #item[\"summary\"] = \"changed topic \"+str(item[\"text\"])# +\" for \"+str(item[\"duration\"])+\" seconds \"\n",
    "    \n",
    "        elif interactiontype == 'Think_aloud':\n",
    "            newItem = {\n",
    "                \"duration\" : item[\"duration\"],\n",
    "                \"text\" : item[\"text\"],\n",
    "                \"interactionType\" : item[\"interactionType\"],\n",
    "                \"id\" : item[\"id\"],\n",
    "                \"time\" : item[\"time\"],  \n",
    "                \"summary\" : \"thought aloud \"+str(item[\"text\"])# +\" for \"+str(item[\"duration\"])+\" seconds \"\n",
    "            }\n",
    "            \n",
    "            #item[\"summary\"] = \"thought aloud \"+str(item[\"text\"])# +\" for \"+str(item[\"duration\"])+\" seconds \"\n",
    "    \n",
    "        elif interactiontype == 'Search':\n",
    "            newItem = {\n",
    "                \"duration\" : item[\"duration\"],\n",
    "                \"text\" : item[\"text\"],\n",
    "                \"interactionType\" : item[\"interactionType\"],\n",
    "                \"id\" : item[\"id\"],\n",
    "                \"time\" : item[\"time\"],\n",
    "                \"summary\" : \"searched for \"+str(item[\"text\"])# +\" for \"+str(item[\"duration\"])+\" seconds \"\n",
    "            }\n",
    "            #item[\"summary\"] = \"searched for \"+str(item[\"text\"])# +\" for \"+str(item[\"duration\"])+\" seconds \"\n",
    "    \n",
    "        elif interactiontype == 'Create Note':\n",
    "            newItem = {\n",
    "                \"duration\" : item[\"duration\"],\n",
    "                \"text\" : item[\"text\"],\n",
    "                \"interactionType\" : item[\"interactionType\"],\n",
    "                \"id\" : item[\"id\"],\n",
    "                \"time\" : item[\"time\"],\n",
    "                \"summary\" : \"created note \"+str(item[\"text\"])# +\" for \"+str(item[\"duration\"])+\" seconds \"\n",
    "            }\n",
    "            #item[\"summary\"] = \"created note \"+str(item[\"text\"])# +\" for \"+str(item[\"duration\"])+\" seconds \"\n",
    "    \n",
    "        elif interactiontype == 'Add note':\n",
    "            newItem = {\n",
    "                \"duration\" : item[\"duration\"],\n",
    "                \"text\" : item[\"text\"],\n",
    "                \"interactionType\" : item[\"interactionType\"],\n",
    "                \"id\" : item[\"id\"],\n",
    "                \"time\" : item[\"time\"],\n",
    "                \"summary\" : \"added note \"+str(item[\"text\"])# +\" for \"+str(item[\"duration\"])+\" seconds \"\n",
    "            }\n",
    "            #item[\"summary\"] = \"added note \"+str(item[\"text\"])# +\" for \"+str(item[\"duration\"])+\" seconds \"\n",
    "    \n",
    "    except KeyError:\n",
    "        print(\"-!- KEY ERROR -!-\\n\", event,\"\\n\\nContains an un-Mapped Event. Check script and redefine. Original File has not been changed yet.\\n\\n\")\n",
    "        exit()\n",
    " \n",
    "    return newItem"
   ]
  },
  {
   "cell_type": "code",
   "execution_count": null,
   "id": "b874178e",
   "metadata": {},
   "outputs": [],
   "source": [
    "def convertFile(filePath):\n",
    "    \n",
    "    data = load_json_data_from_file(file_path)\n",
    "    outdata = []\n",
    "    \n",
    "    for item in data:\n",
    "        newItem = addsummary(item)\n",
    "        outdata.append(newItem)\n",
    "            \n",
    "    write_json_data_to_file(filePath,outdata)"
   ]
  },
  {
   "cell_type": "code",
   "execution_count": null,
   "id": "9f06d647",
   "metadata": {},
   "outputs": [],
   "source": [
    "for dataset in range(1,datasets+1):\n",
    "    for person in range(1,persons+1):\n",
    "        file_path = '../data/Dataset_'+str(dataset)+'/User Interactions/'+dataset_names[dataset]+'_P'+str(person)+'_InteractionsLogs.json'\n",
    "        #print(file_path)\n",
    "        convertFile(file_path)"
   ]
  },
  {
   "cell_type": "code",
   "execution_count": null,
   "id": "1702f7f8",
   "metadata": {},
   "outputs": [],
   "source": []
  },
  {
   "cell_type": "code",
   "execution_count": null,
   "id": "7db90ffe",
   "metadata": {},
   "outputs": [],
   "source": []
  },
  {
   "cell_type": "code",
   "execution_count": null,
   "id": "ef1c46bb",
   "metadata": {},
   "outputs": [],
   "source": []
  },
  {
   "cell_type": "code",
   "execution_count": null,
   "id": "bb3e6d57",
   "metadata": {},
   "outputs": [],
   "source": []
  },
  {
   "attachments": {},
   "cell_type": "markdown",
   "id": "30b6f07e",
   "metadata": {},
   "source": [
    "#### Trying out models from hugging face "
   ]
  },
  {
   "cell_type": "code",
   "execution_count": null,
   "id": "1fcf354a",
   "metadata": {},
   "outputs": [],
   "source": [
    "from transformers import pipeline"
   ]
  },
  {
   "cell_type": "code",
   "execution_count": null,
   "id": "b4bd32ef",
   "metadata": {
    "collapsed": true
   },
   "outputs": [],
   "source": [
    "text2text_generator = pipeline(\"text2text-generation\")"
   ]
  },
  {
   "cell_type": "code",
   "execution_count": null,
   "id": "ce1168a1",
   "metadata": {
    "scrolled": true
   },
   "outputs": [],
   "source": [
    "text2text_generator(\"\\\n",
    "A person \\\n",
    "duration:10, interactiontype:thinking_aloud, text:So the diseas was startet in Nigeria in Feb 2011. then spreaded to reading all countries \\\n",
    "Do we know to name of the disease or it;s just an infection disease?  \\\n",
    "I'm thinking it's better to starting with the disease to figure out what the disease is first or tto figure out what happend in the Nigeria first. Like how the disease startet in Nigeria \\\n",
    "\",max_length=1000)"
   ]
  },
  {
   "cell_type": "code",
   "execution_count": null,
   "id": "8da867cb",
   "metadata": {
    "collapsed": true
   },
   "outputs": [],
   "source": [
    "summarizer = pipeline(\"summarization\", model =\"philschmid/flan-t5-base-samsum\")"
   ]
  },
  {
   "cell_type": "code",
   "execution_count": null,
   "id": "e8ce8892",
   "metadata": {},
   "outputs": [],
   "source": [
    "summarizer(\"\\\n",
    "A person \\\n",
    "duration:10, interactiontype:thinking_aloud, text:So the diseas was startet in Nigeria in Feb 2011. then spreaded to reading all countries \\\n",
    "Do we know to name of the disease or it;s just an infection disease?  \\\n",
    "I'm thinking it's better to starting with the disease to figure out what the disease is first or tto figure out what happend in the Nigeria first. Like how the disease startet in Nigeria \\\n",
    "\",max_length=200)"
   ]
  },
  {
   "cell_type": "code",
   "execution_count": null,
   "id": "d5e88cce",
   "metadata": {},
   "outputs": [],
   "source": [
    "text_generator = pipeline(\"text-generation\", model = 'gpt2')"
   ]
  },
  {
   "cell_type": "code",
   "execution_count": null,
   "id": "23b9baa5",
   "metadata": {},
   "outputs": [],
   "source": [
    "text_generator(\"\\\n",
    "A person thinking aloud: So the diseas was startet in Nigeria in Feb 2011. then spreaded to reading all countries \\\n",
    "Do we know to name of the disease or it;s just an infection disease?  \\\n",
    "I'm thinking it's better to starting with the disease to figure out what the disease is first or tto figure out what happend in the Nigeria first. Like how the disease startet in Nigeria \\\n",
    "\",max_length=105)"
   ]
  },
  {
   "attachments": {},
   "cell_type": "markdown",
   "id": "52af30a4",
   "metadata": {},
   "source": [
    "#### Hugging face doesn't seem to work, Need either Transfer learning/GPT API"
   ]
  }
 ],
 "metadata": {
  "kernelspec": {
   "display_name": "Python 3 (ipykernel)",
   "language": "python",
   "name": "python3"
  },
  "language_info": {
   "codemirror_mode": {
    "name": "ipython",
    "version": 3
   },
   "file_extension": ".py",
   "mimetype": "text/x-python",
   "name": "python",
   "nbconvert_exporter": "python",
   "pygments_lexer": "ipython3",
   "version": "3.9.16"
  }
 },
 "nbformat": 4,
 "nbformat_minor": 5
}
