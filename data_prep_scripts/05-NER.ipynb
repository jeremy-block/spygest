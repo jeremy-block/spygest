{
 "cells": [
  {
   "cell_type": "markdown",
   "id": "16565eeb",
   "metadata": {},
   "source": [
    "This tutorial is based on work developed by Elizabeth Cary with Pacific Northwest National Lab.\n",
    "POC: Elizabeth Cary, elizabeth.cary@pnnl.gov\n",
    "\n",
    "# Applying NER and Coreference Resolution with spaCy and AllenNLP.\n",
    "\n",
    "\n",
    "## Load spaCy model\n",
    "[en_core_web_sm](https://spacy.io/models/en#en_core_web_sm) is typically considered spaCy's default English model and comes pre-loaded with a number of components: tok2vec, tagger, parser, senter, ner, attribute_ruler, and lemmatizer. For this demo, we'll be focusing on the NER component, though you can check out the linked documentation for more information on this model and its offerings.\n",
    "\n",
    "> Note: Take a look at the information included in the model documentation. What should we keep in mind when using this model? In particular, what type of training data was used to train these components? How will this affect how we use this model?"
   ]
  },
  {
   "cell_type": "code",
   "execution_count": 1,
   "id": "3b7a8230",
   "metadata": {},
   "outputs": [],
   "source": [
    "# Import packages\n",
    "import spacy\n",
    "nlp = spacy.load('en_core_web_sm')\n",
    "import pandas as pd\n",
    "import json\n",
    "import os"
   ]
  },
  {
   "cell_type": "code",
   "execution_count": 2,
   "id": "d8576355",
   "metadata": {},
   "outputs": [
    {
     "data": {
      "text/html": [
       "<div>\n",
       "<style scoped>\n",
       "    .dataframe tbody tr th:only-of-type {\n",
       "        vertical-align: middle;\n",
       "    }\n",
       "\n",
       "    .dataframe tbody tr th {\n",
       "        vertical-align: top;\n",
       "    }\n",
       "\n",
       "    .dataframe thead th {\n",
       "        text-align: right;\n",
       "    }\n",
       "</style>\n",
       "<table border=\"1\" class=\"dataframe\">\n",
       "  <thead>\n",
       "    <tr style=\"text-align: right;\">\n",
       "      <th></th>\n",
       "      <th>id</th>\n",
       "      <th>date</th>\n",
       "      <th>title</th>\n",
       "      <th>contents</th>\n",
       "    </tr>\n",
       "  </thead>\n",
       "  <tbody>\n",
       "    <tr>\n",
       "      <th>0</th>\n",
       "      <td>disappearance1</td>\n",
       "      <td>Jan 2014 Meeting announcement</td>\n",
       "      <td></td>\n",
       "      <td>Athena Speaks &lt;br&gt;&lt;br&gt;TO MEET the WHOLE FOR T...</td>\n",
       "    </tr>\n",
       "    <tr>\n",
       "      <th>1</th>\n",
       "      <td>disappearance2</td>\n",
       "      <td>Jan 2014</td>\n",
       "      <td>Centrum Sentinel</td>\n",
       "      <td>Centrum Sentinel &lt;br&gt;&lt;br&gt; VOICES - a blog app...</td>\n",
       "    </tr>\n",
       "    <tr>\n",
       "      <th>2</th>\n",
       "      <td>disappearance3</td>\n",
       "      <td>Oct 1995</td>\n",
       "      <td>MAGNIFICENT OPENING GASTECH-KRONOS</td>\n",
       "      <td>The General Post MAGNIFICENT OPENING GASTECH-...</td>\n",
       "    </tr>\n",
       "    <tr>\n",
       "      <th>3</th>\n",
       "      <td>disappearance4</td>\n",
       "      <td>Jan 2014</td>\n",
       "      <td>GASTech Employees Kidnapped in Kronos</td>\n",
       "      <td>International Times GASTech Employees Kidnappe...</td>\n",
       "    </tr>\n",
       "    <tr>\n",
       "      <th>4</th>\n",
       "      <td>disappearance5</td>\n",
       "      <td>Jan 2014</td>\n",
       "      <td>Homeland Illumination</td>\n",
       "      <td>Homeland Illumination VOICES - a blog about wh...</td>\n",
       "    </tr>\n",
       "  </tbody>\n",
       "</table>\n",
       "</div>"
      ],
      "text/plain": [
       "               id                           date  \\\n",
       "0  disappearance1  Jan 2014 Meeting announcement   \n",
       "1  disappearance2                       Jan 2014   \n",
       "2  disappearance3                       Oct 1995   \n",
       "3  disappearance4                       Jan 2014   \n",
       "4  disappearance5                       Jan 2014   \n",
       "\n",
       "                                   title  \\\n",
       "0                                          \n",
       "1                      Centrum Sentinel    \n",
       "2    MAGNIFICENT OPENING GASTECH-KRONOS    \n",
       "3  GASTech Employees Kidnapped in Kronos   \n",
       "4                  Homeland Illumination   \n",
       "\n",
       "                                            contents  \n",
       "0   Athena Speaks <br><br>TO MEET the WHOLE FOR T...  \n",
       "1   Centrum Sentinel <br><br> VOICES - a blog app...  \n",
       "2   The General Post MAGNIFICENT OPENING GASTECH-...  \n",
       "3  International Times GASTech Employees Kidnappe...  \n",
       "4  Homeland Illumination VOICES - a blog about wh...  "
      ]
     },
     "execution_count": 2,
     "metadata": {},
     "output_type": "execute_result"
    }
   ],
   "source": [
    "#Pick a dataset and bring it into memory\n",
    "dataset = 3\n",
    "data_file = '../Data/Dataset_'+str(dataset)+'/Documents/Documents_Dataset_'+str(dataset)+'.json'\n",
    "df = pd.read_json(data_file, orient='records')\n",
    "df.head()"
   ]
  },
  {
   "cell_type": "markdown",
   "id": "a7559f27",
   "metadata": {},
   "source": [
    "## Named Entity Recognition\n",
    "Now that we have our data and spaCy model loaded, let's explore the model in a little more detail.\n",
    "\n",
    "A list of class definitions somewhere to better understand what we're being shown:"
   ]
  },
  {
   "cell_type": "code",
   "execution_count": 3,
   "id": "bf0cfa1d",
   "metadata": {},
   "outputs": [
    {
     "name": "stdout",
     "output_type": "stream",
     "text": [
      "CARDINAL | Numerals that do not fall under another type\n",
      "DATE | Absolute or relative dates or periods\n",
      "EVENT | Named hurricanes, battles, wars, sports events, etc.\n",
      "FAC | Buildings, airports, highways, bridges, etc.\n",
      "GPE | Countries, cities, states\n",
      "LANGUAGE | Any named language\n",
      "LAW | Named documents made into laws.\n",
      "LOC | Non-GPE locations, mountain ranges, bodies of water\n",
      "MONEY | Monetary values, including unit\n",
      "NORP | Nationalities or religious or political groups\n",
      "ORDINAL | \"first\", \"second\", etc.\n",
      "ORG | Companies, agencies, institutions, etc.\n",
      "PERCENT | Percentage, including \"%\"\n",
      "PERSON | People, including fictional\n",
      "PRODUCT | Objects, vehicles, foods, etc. (not services)\n",
      "QUANTITY | Measurements, as of weight or distance\n",
      "TIME | Times smaller than a day\n",
      "WORK_OF_ART | Titles of books, songs, etc.\n"
     ]
    }
   ],
   "source": [
    "for label in nlp.get_pipe('ner').labels:\n",
    "    print(label, '|', spacy.explain(label))"
   ]
  },
  {
   "cell_type": "markdown",
   "id": "294015c3",
   "metadata": {},
   "source": [
    "Let's test how this works on the first docuemnt"
   ]
  },
  {
   "cell_type": "code",
   "execution_count": 5,
   "id": "90af9fa3",
   "metadata": {},
   "outputs": [
    {
     "name": "stdout",
     "output_type": "stream",
     "text": [
      "Athena Speaks Athena Speaks ORG\n",
      "Tomorrow Tomorrow DATE\n",
      "2014/01/19 2014/01/19 CARDINAL\n",
      "Kronos Kronos PERSON\n",
      "tomorrow tomorrow DATE\n",
      "8 AM 8 AM TIME\n",
      "Sten St George Sten St George PERSON\n",
      "GAStech GAStech ORG\n",
      "Kronos Kronos ORG\n",
      "Abila Abila GPE\n",
      "Haneson Ngohebo Haneson Ngohebo PERSON\n",
      "Blog Blog PERSON\n",
      "St. George St. George GPE\n",
      "GAStech GAStech ORG\n",
      "Kronos Kronos ORG\n",
      "IPO IPO ORG\n",
      "GAStech GAStech ORG\n",
      "Kronos Kronos ORG\n"
     ]
    }
   ],
   "source": [
    "doc = nlp(df['contents'][0])\n",
    "for ent in doc.ents:\n",
    "    print(ent, ent.text, ent.label_)"
   ]
  },
  {
   "cell_type": "code",
   "execution_count": 6,
   "id": "8050ec06",
   "metadata": {},
   "outputs": [
    {
     "data": {
      "text/html": [
       "<span class=\"tex2jax_ignore\"><div class=\"entities\" style=\"line-height: 2.5; direction: ltr\"> \n",
       "<mark class=\"entity\" style=\"background: #7aecec; padding: 0.45em 0.6em; margin: 0 0.25em; line-height: 1; border-radius: 0.35em;\">\n",
       "    Athena Speaks\n",
       "    <span style=\"font-size: 0.8em; font-weight: bold; line-height: 1; border-radius: 0.35em; vertical-align: middle; margin-left: 0.5rem\">ORG</span>\n",
       "</mark>\n",
       " &lt;br&gt;&lt;br&gt;TO MEET the WHOLE FOR \n",
       "<mark class=\"entity\" style=\"background: #bfe1d9; padding: 0.45em 0.6em; margin: 0 0.25em; line-height: 1; border-radius: 0.35em;\">\n",
       "    Tomorrow\n",
       "    <span style=\"font-size: 0.8em; font-weight: bold; line-height: 1; border-radius: 0.35em; vertical-align: middle; margin-left: 0.5rem\">DATE</span>\n",
       "</mark>\n",
       " morning \n",
       "<mark class=\"entity\" style=\"background: #e4e7d2; padding: 0.45em 0.6em; margin: 0 0.25em; line-height: 1; border-radius: 0.35em;\">\n",
       "    2014/01/19\n",
       "    <span style=\"font-size: 0.8em; font-weight: bold; line-height: 1; border-radius: 0.35em; vertical-align: middle; margin-left: 0.5rem\">CARDINAL</span>\n",
       "</mark>\n",
       " &lt;br&gt;&lt;br&gt; ABILA, \n",
       "<mark class=\"entity\" style=\"background: #aa9cfc; padding: 0.45em 0.6em; margin: 0 0.25em; line-height: 1; border-radius: 0.35em;\">\n",
       "    Kronos\n",
       "    <span style=\"font-size: 0.8em; font-weight: bold; line-height: 1; border-radius: 0.35em; vertical-align: middle; margin-left: 0.5rem\">PERSON</span>\n",
       "</mark>\n",
       " - with a meeting to place \n",
       "<mark class=\"entity\" style=\"background: #bfe1d9; padding: 0.45em 0.6em; margin: 0 0.25em; line-height: 1; border-radius: 0.35em;\">\n",
       "    tomorrow\n",
       "    <span style=\"font-size: 0.8em; font-weight: bold; line-height: 1; border-radius: 0.35em; vertical-align: middle; margin-left: 0.5rem\">DATE</span>\n",
       "</mark>\n",
       " at \n",
       "<mark class=\"entity\" style=\"background: #bfe1d9; padding: 0.45em 0.6em; margin: 0 0.25em; line-height: 1; border-radius: 0.35em;\">\n",
       "    8 AM\n",
       "    <span style=\"font-size: 0.8em; font-weight: bold; line-height: 1; border-radius: 0.35em; vertical-align: middle; margin-left: 0.5rem\">TIME</span>\n",
       "</mark>\n",
       ", the public call to the saving initial recent, and PRESIDENT \n",
       "<mark class=\"entity\" style=\"background: #aa9cfc; padding: 0.45em 0.6em; margin: 0 0.25em; line-height: 1; border-radius: 0.35em;\">\n",
       "    Sten St George\n",
       "    <span style=\"font-size: 0.8em; font-weight: bold; line-height: 1; border-radius: 0.35em; vertical-align: middle; margin-left: 0.5rem\">PERSON</span>\n",
       "</mark>\n",
       ", Jr. in journalists of city will be downward on the registered offices of \n",
       "<mark class=\"entity\" style=\"background: #7aecec; padding: 0.45em 0.6em; margin: 0 0.25em; line-height: 1; border-radius: 0.35em;\">\n",
       "    GAStech\n",
       "    <span style=\"font-size: 0.8em; font-weight: bold; line-height: 1; border-radius: 0.35em; vertical-align: middle; margin-left: 0.5rem\">ORG</span>\n",
       "</mark>\n",
       " - of \n",
       "<mark class=\"entity\" style=\"background: #7aecec; padding: 0.45em 0.6em; margin: 0 0.25em; line-height: 1; border-radius: 0.35em;\">\n",
       "    Kronos\n",
       "    <span style=\"font-size: 0.8em; font-weight: bold; line-height: 1; border-radius: 0.35em; vertical-align: middle; margin-left: 0.5rem\">ORG</span>\n",
       "</mark>\n",
       " in the droves with the abundance of the questions. &lt;br&gt;&lt;br&gt;The post of \n",
       "<mark class=\"entity\" style=\"background: #feca74; padding: 0.45em 0.6em; margin: 0 0.25em; line-height: 1; border-radius: 0.35em;\">\n",
       "    Abila\n",
       "    <span style=\"font-size: 0.8em; font-weight: bold; line-height: 1; border-radius: 0.35em; vertical-align: middle; margin-left: 0.5rem\">GPE</span>\n",
       "</mark>\n",
       " will send \n",
       "<mark class=\"entity\" style=\"background: #aa9cfc; padding: 0.45em 0.6em; margin: 0 0.25em; line-height: 1; border-radius: 0.35em;\">\n",
       "    Haneson Ngohebo\n",
       "    <span style=\"font-size: 0.8em; font-weight: bold; line-height: 1; border-radius: 0.35em; vertical-align: middle; margin-left: 0.5rem\">PERSON</span>\n",
       "</mark>\n",
       ", author above of the \n",
       "<mark class=\"entity\" style=\"background: #aa9cfc; padding: 0.45em 0.6em; margin: 0 0.25em; line-height: 1; border-radius: 0.35em;\">\n",
       "    Blog\n",
       "    <span style=\"font-size: 0.8em; font-weight: bold; line-height: 1; border-radius: 0.35em; vertical-align: middle; margin-left: 0.5rem\">PERSON</span>\n",
       "</mark>\n",
       " scene, with the blog of phase the event with the hopes to oblige \n",
       "<mark class=\"entity\" style=\"background: #feca74; padding: 0.45em 0.6em; margin: 0 0.25em; line-height: 1; border-radius: 0.35em;\">\n",
       "    St. George\n",
       "    <span style=\"font-size: 0.8em; font-weight: bold; line-height: 1; border-radius: 0.35em; vertical-align: middle; margin-left: 0.5rem\">GPE</span>\n",
       "</mark>\n",
       ", Jr. and its control of \n",
       "<mark class=\"entity\" style=\"background: #7aecec; padding: 0.45em 0.6em; margin: 0 0.25em; line-height: 1; border-radius: 0.35em;\">\n",
       "    GAStech\n",
       "    <span style=\"font-size: 0.8em; font-weight: bold; line-height: 1; border-radius: 0.35em; vertical-align: middle; margin-left: 0.5rem\">ORG</span>\n",
       "</mark>\n",
       " - of \n",
       "<mark class=\"entity\" style=\"background: #7aecec; padding: 0.45em 0.6em; margin: 0 0.25em; line-height: 1; border-radius: 0.35em;\">\n",
       "    Kronos\n",
       "    <span style=\"font-size: 0.8em; font-weight: bold; line-height: 1; border-radius: 0.35em; vertical-align: middle; margin-left: 0.5rem\">ORG</span>\n",
       "</mark>\n",
       " groups to present its observations on the \n",
       "<mark class=\"entity\" style=\"background: #7aecec; padding: 0.45em 0.6em; margin: 0 0.25em; line-height: 1; border-radius: 0.35em;\">\n",
       "    IPO\n",
       "    <span style=\"font-size: 0.8em; font-weight: bold; line-height: 1; border-radius: 0.35em; vertical-align: middle; margin-left: 0.5rem\">ORG</span>\n",
       "</mark>\n",
       ", their recent falls of wind, and plans of \n",
       "<mark class=\"entity\" style=\"background: #7aecec; padding: 0.45em 0.6em; margin: 0 0.25em; line-height: 1; border-radius: 0.35em;\">\n",
       "    GAStech\n",
       "    <span style=\"font-size: 0.8em; font-weight: bold; line-height: 1; border-radius: 0.35em; vertical-align: middle; margin-left: 0.5rem\">ORG</span>\n",
       "</mark>\n",
       " for \n",
       "<mark class=\"entity\" style=\"background: #7aecec; padding: 0.45em 0.6em; margin: 0 0.25em; line-height: 1; border-radius: 0.35em;\">\n",
       "    Kronos\n",
       "    <span style=\"font-size: 0.8em; font-weight: bold; line-height: 1; border-radius: 0.35em; vertical-align: middle; margin-left: 0.5rem\">ORG</span>\n",
       "</mark>\n",
       ". </div></span>"
      ],
      "text/plain": [
       "<IPython.core.display.HTML object>"
      ]
     },
     "metadata": {},
     "output_type": "display_data"
    }
   ],
   "source": [
    "spacy.displacy.render(doc, style='ent')"
   ]
  },
  {
   "cell_type": "code",
   "execution_count": 7,
   "id": "bb03bea6",
   "metadata": {},
   "outputs": [
    {
     "data": {
      "text/html": [
       "<span class=\"tex2jax_ignore\"><div class=\"entities\" style=\"line-height: 2.5; direction: ltr\"> Athena Speaks &lt;br&gt;&lt;br&gt;TO MEET the WHOLE FOR Tomorrow morning 2014/01/19 &lt;br&gt;&lt;br&gt; ABILA, \n",
       "<mark class=\"entity\" style=\"background: #aa9cfc; padding: 0.45em 0.6em; margin: 0 0.25em; line-height: 1; border-radius: 0.35em;\">\n",
       "    Kronos\n",
       "    <span style=\"font-size: 0.8em; font-weight: bold; line-height: 1; border-radius: 0.35em; vertical-align: middle; margin-left: 0.5rem\">PERSON</span>\n",
       "</mark>\n",
       " - with a meeting to place tomorrow at 8 AM, the public call to the saving initial recent, and PRESIDENT \n",
       "<mark class=\"entity\" style=\"background: #aa9cfc; padding: 0.45em 0.6em; margin: 0 0.25em; line-height: 1; border-radius: 0.35em;\">\n",
       "    Sten St George\n",
       "    <span style=\"font-size: 0.8em; font-weight: bold; line-height: 1; border-radius: 0.35em; vertical-align: middle; margin-left: 0.5rem\">PERSON</span>\n",
       "</mark>\n",
       ", Jr. in journalists of city will be downward on the registered offices of GAStech - of Kronos in the droves with the abundance of the questions. &lt;br&gt;&lt;br&gt;The post of \n",
       "<mark class=\"entity\" style=\"background: #feca74; padding: 0.45em 0.6em; margin: 0 0.25em; line-height: 1; border-radius: 0.35em;\">\n",
       "    Abila\n",
       "    <span style=\"font-size: 0.8em; font-weight: bold; line-height: 1; border-radius: 0.35em; vertical-align: middle; margin-left: 0.5rem\">GPE</span>\n",
       "</mark>\n",
       " will send \n",
       "<mark class=\"entity\" style=\"background: #aa9cfc; padding: 0.45em 0.6em; margin: 0 0.25em; line-height: 1; border-radius: 0.35em;\">\n",
       "    Haneson Ngohebo\n",
       "    <span style=\"font-size: 0.8em; font-weight: bold; line-height: 1; border-radius: 0.35em; vertical-align: middle; margin-left: 0.5rem\">PERSON</span>\n",
       "</mark>\n",
       ", author above of the \n",
       "<mark class=\"entity\" style=\"background: #aa9cfc; padding: 0.45em 0.6em; margin: 0 0.25em; line-height: 1; border-radius: 0.35em;\">\n",
       "    Blog\n",
       "    <span style=\"font-size: 0.8em; font-weight: bold; line-height: 1; border-radius: 0.35em; vertical-align: middle; margin-left: 0.5rem\">PERSON</span>\n",
       "</mark>\n",
       " scene, with the blog of phase the event with the hopes to oblige \n",
       "<mark class=\"entity\" style=\"background: #feca74; padding: 0.45em 0.6em; margin: 0 0.25em; line-height: 1; border-radius: 0.35em;\">\n",
       "    St. George\n",
       "    <span style=\"font-size: 0.8em; font-weight: bold; line-height: 1; border-radius: 0.35em; vertical-align: middle; margin-left: 0.5rem\">GPE</span>\n",
       "</mark>\n",
       ", Jr. and its control of GAStech - of Kronos groups to present its observations on the IPO, their recent falls of wind, and plans of GAStech for Kronos. </div></span>"
      ],
      "text/plain": [
       "<IPython.core.display.HTML object>"
      ]
     },
     "metadata": {},
     "output_type": "display_data"
    }
   ],
   "source": [
    "options={'ents' : ['PERSON','GPE']}\n",
    "spacy.displacy.render(doc, style='ent', options=options)"
   ]
  },
  {
   "cell_type": "markdown",
   "id": "35d419ce",
   "metadata": {},
   "source": [
    "## Getting entities for all the documents"
   ]
  },
  {
   "cell_type": "code",
   "execution_count": 34,
   "id": "fee16bf0",
   "metadata": {},
   "outputs": [],
   "source": [
    "# Loop through each document to create a list of each Person or GPE in each document as an array\n",
    "documentIDs = []\n",
    "documentGeos = []\n",
    "documentPeople = []\n",
    "\n",
    "for i in range(len(df['contents'])):\n",
    "    doc = nlp(df['contents'][i])\n",
    "    documentIDs.append(df['id'][i])\n",
    "    documentGeos.append(list({str(word) for word in doc.ents if word.label_=='GPE'}))\n",
    "    documentPeople.append(list({str(word) for word in doc.ents if word.label_=='PERSON'}))"
   ]
  },
  {
   "cell_type": "code",
   "execution_count": 35,
   "id": "b1c24795",
   "metadata": {},
   "outputs": [],
   "source": [
    "# Make output JSON objects\n",
    "output = []\n",
    "for i in range(len(documentIDs)):\n",
    "    tempObj = {}\n",
    "    tempObj[\"id\"] = documentIDs[i]\n",
    "    tempObj[\"Geos\"] = documentGeos[i]\n",
    "    tempObj[\"People\"] = documentPeople[i]\n",
    "    output.append(tempObj)\n",
    "    \n",
    "# outJSON = {}\n",
    "# outJSON['Documents'] = output\n",
    "outJSON=output.copy()"
   ]
  },
  {
   "cell_type": "code",
   "execution_count": 36,
   "id": "0e0e614c",
   "metadata": {},
   "outputs": [],
   "source": [
    "# Save to file\n",
    "filename = '../Data/Dataset_'+str(dataset)+'/Documents/Entities_Dataset_'+str(dataset)+'.json'\n",
    "\n",
    "def write_json_data_to_file(file_path, data):\n",
    "    os.makedirs(os.path.dirname(file_path), exist_ok=True)\n",
    "    with open(file_path, 'w') as file:\n",
    "            d = json.dumps(data, ensure_ascii=False)\n",
    "            file.write(d)\n",
    "    file.close()\n",
    "    print(\"file written to \",file_path)\n",
    "    \n",
    "write_json_data_to_file(filename,outJSON)"
   ]
  },
  {
   "cell_type": "code",
   "execution_count": null,
   "id": "bceee170",
   "metadata": {},
   "outputs": [],
   "source": []
  }
 ],
 "metadata": {
  "kernelspec": {
   "display_name": "Python 3 (ipykernel)",
   "language": "python",
   "name": "python3"
  },
  "language_info": {
   "codemirror_mode": {
    "name": "ipython",
    "version": 3
   },
   "file_extension": ".py",
   "mimetype": "text/x-python",
   "name": "python",
   "nbconvert_exporter": "python",
   "pygments_lexer": "ipython3",
   "version": "3.11.0"
  }
 },
 "nbformat": 4,
 "nbformat_minor": 5
}
