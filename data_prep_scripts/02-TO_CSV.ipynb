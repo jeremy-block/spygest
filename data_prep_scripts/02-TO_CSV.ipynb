{
 "cells": [
  {
   "cell_type": "markdown",
   "id": "fdab0628",
   "metadata": {},
   "source": [
    "# TO_CSV - Converts interaction logs into frequency histograms"
   ]
  },
  {
   "cell_type": "markdown",
   "id": "fff138a3",
   "metadata": {},
   "source": [
    "* Runs on individual user interactions and generates a CSV with the frequency of encountering a word\n",
    "* Pulls data from TFIDF_d[x] and userIterations\n",
    "* Outputs data to wordsCSV/Dataset_x"
   ]
  },
  {
   "cell_type": "code",
   "execution_count": 116,
   "id": "d30028f5",
   "metadata": {},
   "outputs": [],
   "source": [
    "### Import necessary modules\n",
    "import json\n",
    "import os\n",
    "import re\n",
    "import numpy as np\n",
    "import csv\n",
    "\n",
    "from sklearn.feature_extraction.text import TfidfTransformer\n",
    "from sklearn.feature_extraction.text import CountVectorizer\n",
    "from sklearn.pipeline import Pipeline"
   ]
  },
  {
   "cell_type": "code",
   "execution_count": 117,
   "id": "65e0f2fc",
   "metadata": {},
   "outputs": [],
   "source": [
    "### Select participant and dataset\n",
    "dataset = 3\n",
    "PID = 8\n",
    "startText = ['Arms', 'Terrorist', 'Disappearance']\n",
    "\n",
    "\n",
    "# filename = 'newData/Dataset_' + dataset + '/' + PID + '.json'\n",
    "filename = '../data/Dataset_' + str(dataset) + '/User Interactions/' + startText[dataset-1] + '_P' + str(PID) + '_InteractionsLogs.json'\n",
    "tfidf = '../data/Dataset_' + str(dataset) + '/Documents/tfidf_d' + str(dataset) + '.json'"
   ]
  },
  {
   "cell_type": "code",
   "execution_count": 118,
   "id": "a74d8324",
   "metadata": {},
   "outputs": [
    {
     "name": "stdout",
     "output_type": "stream",
     "text": [
      "first 3 logged events:\n",
      " [{'duration': 32, 'text': '', 'interactionType': 'Mouse_hover', 'id': 'disappearance33', 'time': 2179}, {'duration': 10, 'text': 'missing', 'interactionType': 'Search', 'id': 0, 'time': 2269}, {'duration': 0, 'text': ' (Looking for articles about people missing) [bottom-up]', 'interactionType': 'Topic_change', 'id': 'bottom-up', 'time': 2280}]\n"
     ]
    }
   ],
   "source": [
    "### Open file and pre-process data\n",
    "f = open(tfidf)\n",
    "\n",
    "TFIDFVecs = json.load(f)\n",
    "\n",
    "histograms = TFIDFVecs['histograms']\n",
    "vocabulary = TFIDFVecs['vocabulary']\n",
    "titles = TFIDFVecs['titles']\n",
    "\n",
    "userData = json.load(open(filename))#['data'] #todo: if I access the original, can I do it with out data?\n",
    "print(\"first 3 logged events:\\n\",userData[:3])\n",
    "\n",
    "docTypes = ['Doc_open', 'Reading']\n",
    "# docTypes = ['Reading']\n",
    "createTypes = ['Search', 'Highlight', 'Connection','Create note', 'Add note']"
   ]
  },
  {
   "cell_type": "code",
   "execution_count": 119,
   "id": "a21734e1",
   "metadata": {},
   "outputs": [
    {
     "name": "stdout",
     "output_type": "stream",
     "text": [
      "XX- Cannot find word in TFIDF vocabulary: dec\t moving on...\n",
      "XX- Cannot find word in TFIDF vocabulary: feb\t moving on...\n",
      "XX- Cannot find word in TFIDF vocabulary: g\t moving on...\n",
      "XX- Cannot find word in TFIDF vocabulary: 1530\t moving on...\n",
      "XX- Cannot find word in TFIDF vocabulary: 1540\t moving on...\n",
      "XX- Cannot find word in TFIDF vocabulary: 1350\t moving on...\n",
      "XX- Cannot find word in TFIDF vocabulary: 1240\t moving on...\n",
      "XX- Cannot find word in TFIDF vocabulary: 1240\t moving on...\n",
      "XX- Cannot find word in TFIDF vocabulary: 1520\t moving on...\n",
      "XX- Cannot find word in TFIDF vocabulary: dec\t moving on...\n",
      "failed to find 10 references.\n"
     ]
    }
   ],
   "source": [
    "### Process logs\n",
    "outVecs = []\n",
    "outTimes = []\n",
    "numFailed = 0\n",
    "counter = 0\n",
    "for event in userData:\n",
    "    if event['interactionType'] in docTypes:\n",
    "        docTitle = event['id']\n",
    "        docTime = event['time']\n",
    "        if docTitle in titles:\n",
    "            # print(\"FoundDoc titled: \" + str(docTitle))\n",
    "            docPos = titles.index(docTitle)\n",
    "            outVecs.append(histograms[docPos])\n",
    "            outTimes.append(docTime)\n",
    "            # print(\"Adding a historgram of length \" + str(len(histograms[docPos])) + \" to outVecs\")\n",
    "            # print(\"Outvecs is now: \"+ str(len(outVecs))+\" items long\")\n",
    "        else:\n",
    "            print(\"XX- Cannot find Title in dataset: \"+str(docTitle))\n",
    "            numFailed = numFailed + 1\n",
    "    if event['interactionType'] in createTypes:\n",
    "        string = event['text']\n",
    "        docTime = event['time']\n",
    "        words = re.findall(r'\\w+', string)\n",
    "        tempVec = np.zeros(len(vocabulary), dtype = int)\n",
    "        changed = 0\n",
    "        numAdded = 0\n",
    "        posAdded = []\n",
    "        for word in words:\n",
    "            word = word.lower() #set the words to lower case before checking the vocabulary.\n",
    "            #if the word is in the vocabulary\n",
    "            if word in vocabulary:\n",
    "                #get the position of the word in the vocabulary list\n",
    "                wordPos = vocabulary.index(word)\n",
    "#                 print(word, \"is at position:\",wordPos)\n",
    "                #increment the frequency of finding that word\n",
    "                tempVec[wordPos] = tempVec[wordPos] + 1\n",
    "                #count the total number of words processed\n",
    "                numAdded = numAdded + 1\n",
    "                #flag that we've updated the tempVec\n",
    "                changed = 1\n",
    "                #make a list of what word positions have been changed so you don't need to iterate over the whole vocabulary in the end.\n",
    "                if wordPos not in posAdded:\n",
    "                    posAdded.append(wordPos)\n",
    "            #if the word is not in vocabulary\n",
    "            if changed == 0:\n",
    "                #complain\n",
    "                print(\"XX- Cannot find word in TFIDF vocabulary: \"+str(word)+\"\\t moving on...\")\n",
    "                #increment counter for the total number of errors\n",
    "                numFailed = numFailed + 1\n",
    "                \n",
    "#                 vocabulary.append(word)\n",
    "                numAdded = numAdded + 1\n",
    "            else:\n",
    "                for position in posAdded:\n",
    "                    tempVec[position] = tempVec[position] / numAdded\n",
    "                # sumWordsInEvent = 0\n",
    "                # for wordFreq in tempVec:\n",
    "                #     sumWordsInEvent = sumWordsInEvent + tempVec[wordFreq]\n",
    "                # # print(sumWordsInEvent)\n",
    "                # if (sumWordsInEvent > 0):\n",
    "                outVecs.append(tempVec.tolist())\n",
    "                outTimes.append(docTime)\n",
    "#should print 0                \n",
    "print(\"failed to find \" + str(numFailed) + \" references.\")\n"
   ]
  },
  {
   "cell_type": "code",
   "execution_count": 120,
   "id": "106ed36a",
   "metadata": {},
   "outputs": [],
   "source": [
    "### Export data to two files\n",
    "outFilename = '../data/Dataset_' + str(dataset) + '/User Words/p' + str(PID) + '.csv'\n",
    "os.makedirs(os.path.dirname(outFilename), exist_ok=True)\n",
    "f = open(outFilename, 'w', newline='')\n",
    "\n",
    "writer = csv.writer(f)\n",
    "header = vocabulary.copy()\n",
    "header.insert(0, 'intTime')\n",
    "writer.writerow(header)\n",
    "\n",
    "for i in range(len(outVecs)):\n",
    "    row = outVecs[i].copy()\n",
    "    row.insert(0, outTimes[i])\n",
    "    writer.writerow(row)\n",
    "f.close()\n",
    "\n",
    "\n",
    "# outFilename = 'newCSV/Dataset_' + dataset + '/' + PID + '.csv'\n",
    "# f = open(outFilename, 'w', newline='')\n",
    "\n",
    "# writer = csv.writer(f)\n",
    "# # header = vocabulary.copy()\n",
    "# # header.insert(0, 'intTime')\n",
    "# # writer.writerow(header)\n",
    "\n",
    "# for i in range(len(outVecs)):\n",
    "#     row = outVecs[i].copy()\n",
    "#     row.insert(0, outTimes[i])\n",
    "#     writer.writerow(row)\n",
    "# f.close()"
   ]
  },
  {
   "cell_type": "code",
   "execution_count": null,
   "id": "1bf19d41",
   "metadata": {},
   "outputs": [],
   "source": []
  }
 ],
 "metadata": {
  "kernelspec": {
   "display_name": "Python 3 (ipykernel)",
   "language": "python",
   "name": "python3"
  },
  "language_info": {
   "codemirror_mode": {
    "name": "ipython",
    "version": 3
   },
   "file_extension": ".py",
   "mimetype": "text/x-python",
   "name": "python",
   "nbconvert_exporter": "python",
   "pygments_lexer": "ipython3",
   "version": "3.11.0"
  },
  "vscode": {
   "interpreter": {
    "hash": "1ee38ef4a5a9feb55287fd749643f13d043cb0a7addaab2a9c224cbe137c0062"
   }
  }
 },
 "nbformat": 4,
 "nbformat_minor": 5
}
