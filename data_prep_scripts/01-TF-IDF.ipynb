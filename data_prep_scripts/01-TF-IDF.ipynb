{
 "cells": [
  {
   "cell_type": "code",
   "execution_count": 11,
   "id": "d8fcb379",
   "metadata": {},
   "outputs": [],
   "source": [
    "### Import necessary libraries\n",
    "import json\n",
    "\n",
    "from sklearn.feature_extraction.text import TfidfTransformer\n",
    "from sklearn.feature_extraction.text import CountVectorizer\n",
    "from sklearn.pipeline import Pipeline"
   ]
  },
  {
   "cell_type": "code",
   "execution_count": 12,
   "id": "133412b7",
   "metadata": {},
   "outputs": [],
   "source": [
    "### Load data\n",
    "dataset = 3\n",
    "f = open('../data/Dataset_'+str(dataset)+'/Documents/Document_Histograms_Dataset_'+str(dataset)+'.json')\n",
    "\n",
    "\n",
    "data = json.load(f)"
   ]
  },
  {
   "cell_type": "code",
   "execution_count": 13,
   "id": "768ca361",
   "metadata": {},
   "outputs": [],
   "source": [
    "### Pre-process data\n",
    "document_titles = []\n",
    "document_histograms = []\n",
    "\n",
    "for document in data['documents']:\n",
    "    document_titles.append(document['id'])\n",
    "    document_histograms.append(document['histogram'])\n",
    "\n",
    "vocabulary = data['words']"
   ]
  },
  {
   "cell_type": "code",
   "execution_count": 14,
   "id": "0f6dda37",
   "metadata": {},
   "outputs": [],
   "source": [
    "### Perform TF-IDF\n",
    "tfidf_transformer=TfidfTransformer(smooth_idf=True,use_idf=True)\n",
    "tfidf_transformer.fit(document_histograms)\n",
    "\n",
    "tf_idf_vector = tfidf_transformer.transform(document_histograms)"
   ]
  },
  {
   "cell_type": "code",
   "execution_count": 15,
   "id": "3709d512",
   "metadata": {},
   "outputs": [],
   "source": [
    "### Process and export data\n",
    "dataObj = {}\n",
    "dataObj['histograms'] = document_histograms\n",
    "dataObj['titles'] = document_titles\n",
    "dataObj['vocabulary'] = vocabulary\n",
    "\n",
    "with open('../data/Dataset_'+str(dataset)+'/Documents/tfidf_d'+str(dataset)+'.json', 'w') as outfile:\n",
    "    json.dump(dataObj, outfile)\n"
   ]
  },
  {
   "cell_type": "code",
   "execution_count": null,
   "id": "16356af5",
   "metadata": {},
   "outputs": [],
   "source": []
  }
 ],
 "metadata": {
  "kernelspec": {
   "display_name": "Python 3 (ipykernel)",
   "language": "python",
   "name": "python3"
  },
  "language_info": {
   "codemirror_mode": {
    "name": "ipython",
    "version": 3
   },
   "file_extension": ".py",
   "mimetype": "text/x-python",
   "name": "python",
   "nbconvert_exporter": "python",
   "pygments_lexer": "ipython3",
   "version": "3.11.0"
  },
  "vscode": {
   "interpreter": {
    "hash": "1ee38ef4a5a9feb55287fd749643f13d043cb0a7addaab2a9c224cbe137c0062"
   }
  }
 },
 "nbformat": 4,
 "nbformat_minor": 5
}
