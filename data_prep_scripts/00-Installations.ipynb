{
 "cells": [
  {
   "attachments": {},
   "cell_type": "markdown",
   "id": "35f2c1b3",
   "metadata": {},
   "source": [
    "# Installations / Pre-requisites\n",
    "\n",
    "Execute this package to ensure the necessary APIs are downloaded and prepared for the other Jupyter notebook files.\n",
    "\n",
    "Note: \n",
    "This notebook uses a very specific way to install modules to avoid problems when multiple virtual environments are present - especially if the notebook uses a different environment than what Jupyter itself uses: https://jakevdp.github.io/blog/2017/12/05/installing-python-packages-from-jupyter/\n",
    "\n",
    "## It is recommended to install the following in a virtual environment like conda or miniconda.\n",
    "\n",
    "Jake VanderPlas has an excellent book - Python Data Science Handbook - available as Python notebooks: https://github.com/jakevdp/PythonDataScienceHandbook/tree/v2 "
   ]
  },
  {
   "cell_type": "code",
   "execution_count": null,
   "id": "7e41d544",
   "metadata": {},
   "outputs": [],
   "source": [
    "import sys\n",
    "!{sys.executable} -m pip install --upgrade pip\n",
    "!{sys.executable} -m pip install pandas_profiling\n",
    "!{sys.executable} -m pip install textacy\n",
    "!{sys.executable} -m pip install nltk\n",
    "!{sys.executable} -m pip install sumy\n",
    "!{sys.executable} -m pip install wikipedia-api\n",
    "\n",
    "!{sys.executable} -m pip install fuzzywuzzy\n",
    "!{sys.executable} -m pip install python-Levenshtein\n",
    "!{sys.executable} -m pip install pyod\n",
    "!{sys.executable} -m pip install 'numba==0.55.1' --force-reinstall\n",
    "!{sys.executable} -m pip install tpot\n",
    "!{sys.executable} -m pip install pydot\n",
    "!{sys.executable} -m pip install ipywidgets\n",
    "!{sys.executable} -m pip install ruptures\n"
   ]
  },
  {
   "cell_type": "code",
   "execution_count": null,
   "id": "415d0f21",
   "metadata": {},
   "outputs": [],
   "source": [
    "!{sys.executable} -m pip install wordcloud"
   ]
  },
  {
   "cell_type": "code",
   "execution_count": null,
   "id": "1c76eddd",
   "metadata": {},
   "outputs": [],
   "source": [
    "!{sys.executable} -m pip install pyLDAvis"
   ]
  },
  {
   "cell_type": "code",
   "execution_count": null,
   "id": "5f9798ee",
   "metadata": {},
   "outputs": [],
   "source": [
    "!{sys.executable} -m pip install dtreeviz"
   ]
  },
  {
   "cell_type": "code",
   "execution_count": null,
   "id": "c21cc8bd",
   "metadata": {},
   "outputs": [],
   "source": [
    "!{sys.executable} -m spacy download en_core_web_sm"
   ]
  },
  {
   "cell_type": "code",
   "execution_count": null,
   "id": "1274bd0f",
   "metadata": {},
   "outputs": [],
   "source": [
    "import nltk\n",
    "nltk.download(\"omw-1.4\")"
   ]
  },
  {
   "cell_type": "code",
   "execution_count": null,
   "id": "ad98741e",
   "metadata": {},
   "outputs": [],
   "source": [
    "nltk.download('gutenberg')"
   ]
  },
  {
   "cell_type": "code",
   "execution_count": null,
   "id": "ad41125e",
   "metadata": {},
   "outputs": [],
   "source": [
    "nltk.download('stopwords')"
   ]
  },
  {
   "cell_type": "code",
   "execution_count": null,
   "id": "a04911fa",
   "metadata": {},
   "outputs": [],
   "source": [
    "nltk.download('punkt')\n",
    "nltk.download('wordnet')\n",
    "nltk.download('averaged_perceptron_tagger')"
   ]
  },
  {
   "cell_type": "code",
   "execution_count": null,
   "id": "aad5e3bf",
   "metadata": {},
   "outputs": [],
   "source": [
    "!sudo apt-get -y install graphviz"
   ]
  },
  {
   "cell_type": "code",
   "execution_count": null,
   "id": "a8baf174-0d46-4ccd-b64e-6b975c28278c",
   "metadata": {},
   "outputs": [],
   "source": []
  }
 ],
 "metadata": {
  "kernelspec": {
   "display_name": "Python 3 (ipykernel)",
   "language": "python",
   "name": "python3"
  },
  "language_info": {
   "codemirror_mode": {
    "name": "ipython",
    "version": 3
   },
   "file_extension": ".py",
   "mimetype": "text/x-python",
   "name": "python",
   "nbconvert_exporter": "python",
   "pygments_lexer": "ipython3",
   "version": "3.11.0"
  }
 },
 "nbformat": 4,
 "nbformat_minor": 5
}
