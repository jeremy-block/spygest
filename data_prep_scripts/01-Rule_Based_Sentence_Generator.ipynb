{
 "cells": [
  {
   "cell_type": "code",
   "execution_count": null,
   "id": "20562be0",
   "metadata": {},
   "outputs": [],
   "source": [
    "import json\n",
    "import re"
   ]
  },
  {
   "attachments": {},
   "cell_type": "markdown",
   "id": "94fe2a45",
   "metadata": {},
   "source": [
    "#### Document Logs"
   ]
  },
  {
   "cell_type": "code",
   "execution_count": null,
   "id": "a0aeb900",
   "metadata": {},
   "outputs": [],
   "source": [
    "dataset = 1\n",
    "file_path = '../data/Dataset_'+str(dataset)+'/Documents/Documents_Dataset_'+str(dataset)+'.json'\n",
    "with open(file_path, 'r', encoding='utf-8') as file:\n",
    "    data = json.load(file)"
   ]
  },
  {
   "cell_type": "code",
   "execution_count": null,
   "id": "ca459751",
   "metadata": {},
   "outputs": [],
   "source": [
    "data"
   ]
  },
  {
   "attachments": {},
   "cell_type": "markdown",
   "id": "ec4ab580",
   "metadata": {},
   "source": [
    "#### tf-idf Document Logs"
   ]
  },
  {
   "cell_type": "code",
   "execution_count": null,
   "id": "c7f591c1",
   "metadata": {},
   "outputs": [],
   "source": [
    "dataset = 1\n",
    "file_path = '../data/Dataset_'+str(dataset)+'/Documents/Document_Histograms_Dataset_'+str(dataset)+'.json'\n",
    "file = open(file_path)\n",
    "data = json.load(file)"
   ]
  },
  {
   "cell_type": "code",
   "execution_count": null,
   "id": "af310529",
   "metadata": {},
   "outputs": [],
   "source": [
    "for item in data:\n",
    "    print(item)"
   ]
  },
  {
   "cell_type": "code",
   "execution_count": null,
   "id": "e3f7de31",
   "metadata": {},
   "outputs": [],
   "source": [
    "print(data['words'])"
   ]
  },
  {
   "attachments": {},
   "cell_type": "markdown",
   "id": "9f7f5a03",
   "metadata": {},
   "source": [
    "#### Interaction Logs"
   ]
  },
  {
   "cell_type": "code",
   "execution_count": null,
   "id": "098631f4",
   "metadata": {},
   "outputs": [],
   "source": [
    "datasets = 3 \n",
    "persons = 8\n",
    "dataset_names = ['Dummy','Arms','Terrorist','Disappearance'] # loop over"
   ]
  },
  {
   "cell_type": "code",
   "execution_count": null,
   "id": "bf7c24d1",
   "metadata": {},
   "outputs": [],
   "source": [
    "def load_json_data_from_file(file_path):\n",
    "    with open(file_path, 'r', encoding='utf-8') as file:\n",
    "        data = json.load(file)\n",
    "    file.close()\n",
    "    return data"
   ]
  },
  {
   "cell_type": "code",
   "execution_count": null,
   "id": "727c2abd",
   "metadata": {},
   "outputs": [],
   "source": [
    "def write_json_data_to_file(file_path, data):\n",
    "    with open(file_path, 'w') as file:\n",
    "            d = json.dumps(data, indent=4, ensure_ascii=False)\n",
    "            file.write(d)\n",
    "    file.close()\n",
    "    print(\"file written to \",file_path)"
   ]
  },
  {
   "cell_type": "code",
   "execution_count": null,
   "id": "76bb279e",
   "metadata": {},
   "outputs": [],
   "source": [
    "interactiontypes=[\n",
    "    \"Mouse_hover\",\n",
    "    \"Draging\",\n",
    "    \"Doc_open\",\n",
    "    \"Reading\",\n",
    "    \"Connection\",\n",
    "    \"Highlight\",\n",
    "    \"Topic_change\",\n",
    "    \"Think_aloud\",\n",
    "    \"Search\",\n",
    "    \"Create Note\",\n",
    "    \"Add note\"\n",
    "]"
   ]
  },
  {
   "cell_type": "code",
   "execution_count": null,
   "id": "678adef1",
   "metadata": {},
   "outputs": [],
   "source": [
    "def addsummary(item):\n",
    "    interactiontype = item[\"interactionType\"]\n",
    "    try:\n",
    "        if interactiontype == 'Mouse_hover':\n",
    "            newItem = {\n",
    "                \"duration\" : item[\"duration\"],\n",
    "                \"text\" : item[\"text\"],\n",
    "                \"interactionType\" : item[\"interactionType\"],\n",
    "                \"id\" : item[\"id\"],\n",
    "                \"time\" : item[\"time\"],   \n",
    "                \"summary\" : \"mouse hovered over \"+str(item[\"id\"])#+\" for \"+str(item[\"duration\"])+\" seconds \"\n",
    "            }\n",
    "            \n",
    "            #item[\"summary\"] = \"mouse hovered over\"+str(item[\"id\"])#+\" for \"+str(item[\"duration\"])+\" seconds \"\n",
    "    \n",
    "        elif interactiontype == 'Draging':\n",
    "            newItem = {\n",
    "                \"duration\" : item[\"duration\"],\n",
    "                \"text\" : item[\"text\"],\n",
    "                \"interactionType\" : item[\"interactionType\"],\n",
    "                \"id\" : item[\"id\"],\n",
    "                \"time\" : item[\"time\"],\n",
    "                \"summary\" : \"dragged over document \"+str(item[\"id\"])# +\" for \"+str(item[\"duration\"])+\" seconds \"\n",
    "            }\n",
    "            \n",
    "            #item[\"summary\"] = \"dragged over document \"+str(item[\"id\"])# +\" for \"+str(item[\"duration\"])+\" seconds \"\n",
    "    \n",
    "        elif interactiontype == 'Doc_open':\n",
    "            newItem = {\n",
    "                \"duration\" : item[\"duration\"],\n",
    "                \"text\" : item[\"text\"],\n",
    "                \"interactionType\" : item[\"interactionType\"],\n",
    "                \"id\" : item[\"id\"],\n",
    "                \"time\" : item[\"time\"],\n",
    "                \"summary\" : \"opened document \"+str(item[\"id\"])# +\" for \"+str(item[\"duration\"])+\" seconds \"\n",
    "            }\n",
    "            #item[\"summary\"] = \"opened document \"+str(item[\"id\"])# +\" for \"+str(item[\"duration\"])+\" seconds \"\n",
    "    \n",
    "        elif interactiontype == 'Reading':\n",
    "            newItem = {\n",
    "                \"duration\" : item[\"duration\"],\n",
    "                \"text\" : item[\"text\"],\n",
    "                \"interactionType\" : item[\"interactionType\"],\n",
    "                \"id\" : item[\"id\"],\n",
    "                \"time\" : item[\"time\"],\n",
    "                \"summary\" : \"read document \"+str(item[\"id\"])# +\" for \"+str(item[\"duration\"])+\" seconds \"\n",
    "            }\n",
    "            #item[\"summary\"] = \"read document \"+str(item[\"id\"])# +\" for \"+str(item[\"duration\"])+\" seconds \"\n",
    "    \n",
    "        elif interactiontype == 'Connection':\n",
    "            newItem = {\n",
    "                \"duration\" : item[\"duration\"],\n",
    "                \"text\" : item[\"text\"],\n",
    "                \"interactionType\" : item[\"interactionType\"],\n",
    "                \"id\" : item[\"id\"],\n",
    "                \"time\" : item[\"time\"],\n",
    "                \"summary\" : \"connected \"+str(item[\"id\"])# +\" for \"+str(item[\"duration\"])+\" seconds \"\n",
    "            }\n",
    "            #item[\"summary\"] = \"connected \"+str(item[\"text\"])# +\" for \"+str(item[\"duration\"])+\" seconds \"\n",
    "    \n",
    "        elif interactiontype == 'Highlight':\n",
    "            newItem = {\n",
    "                \"duration\" : item[\"duration\"],\n",
    "                \"text\" : item[\"text\"],\n",
    "                \"interactionType\" : item[\"interactionType\"],\n",
    "                \"id\" : item[\"id\"],\n",
    "                \"time\" : item[\"time\"],\n",
    "                \"summary\" : \"highlighted \"+str(item[\"text\"])+\" in document \"+str(item[\"id\"])# +\" for \"+str(item[\"duration\"])+\" seconds \"\n",
    "            }\n",
    "            #item[\"summary\"] = \"highlighted \"+str(item[\"text\"])+\" in document \"+str(item[\"id\"])# +\" for \"+str(item[\"duration\"])+\" seconds \"\n",
    "    \n",
    "        elif interactiontype == 'Topic_change':\n",
    "            newItem = {\n",
    "                \"duration\" : item[\"duration\"],\n",
    "                \"text\" : item[\"text\"],\n",
    "                \"interactionType\" : item[\"interactionType\"],\n",
    "                \"id\" : item[\"id\"],\n",
    "                \"time\" : item[\"time\"],\n",
    "                \"summary\" : \"changed topic \"+str(item[\"text\"])# +\" for \"+str(item[\"duration\"])+\" seconds \"\n",
    "            }\n",
    "            #item[\"summary\"] = \"changed topic \"+str(item[\"text\"])# +\" for \"+str(item[\"duration\"])+\" seconds \"\n",
    "    \n",
    "        elif interactiontype == 'Think_aloud':\n",
    "            newItem = {\n",
    "                \"duration\" : item[\"duration\"],\n",
    "                \"text\" : item[\"text\"],\n",
    "                \"interactionType\" : item[\"interactionType\"],\n",
    "                \"id\" : item[\"id\"],\n",
    "                \"time\" : item[\"time\"],  \n",
    "                \"summary\" : \"thought aloud \"+str(item[\"text\"])# +\" for \"+str(item[\"duration\"])+\" seconds \"\n",
    "            }\n",
    "            \n",
    "            #item[\"summary\"] = \"thought aloud \"+str(item[\"text\"])# +\" for \"+str(item[\"duration\"])+\" seconds \"\n",
    "    \n",
    "        elif interactiontype == 'Search':\n",
    "            newItem = {\n",
    "                \"duration\" : item[\"duration\"],\n",
    "                \"text\" : item[\"text\"],\n",
    "                \"interactionType\" : item[\"interactionType\"],\n",
    "                \"id\" : item[\"id\"],\n",
    "                \"time\" : item[\"time\"],\n",
    "                \"summary\" : \"searched for \"+str(item[\"text\"])# +\" for \"+str(item[\"duration\"])+\" seconds \"\n",
    "            }\n",
    "            #item[\"summary\"] = \"searched for \"+str(item[\"text\"])# +\" for \"+str(item[\"duration\"])+\" seconds \"\n",
    "    \n",
    "        elif interactiontype == 'Create Note':\n",
    "            newItem = {\n",
    "                \"duration\" : item[\"duration\"],\n",
    "                \"text\" : item[\"text\"],\n",
    "                \"interactionType\" : item[\"interactionType\"],\n",
    "                \"id\" : item[\"id\"],\n",
    "                \"time\" : item[\"time\"],\n",
    "                \"summary\" : \"created note \"+str(item[\"text\"])# +\" for \"+str(item[\"duration\"])+\" seconds \"\n",
    "            }\n",
    "            #item[\"summary\"] = \"created note \"+str(item[\"text\"])# +\" for \"+str(item[\"duration\"])+\" seconds \"\n",
    "    \n",
    "        elif interactiontype == 'Add note':\n",
    "            newItem = {\n",
    "                \"duration\" : item[\"duration\"],\n",
    "                \"text\" : item[\"text\"],\n",
    "                \"interactionType\" : item[\"interactionType\"],\n",
    "                \"id\" : item[\"id\"],\n",
    "                \"time\" : item[\"time\"],\n",
    "                \"summary\" : \"added note \"+str(item[\"text\"])# +\" for \"+str(item[\"duration\"])+\" seconds \"\n",
    "            }\n",
    "            #item[\"summary\"] = \"added note \"+str(item[\"text\"])# +\" for \"+str(item[\"duration\"])+\" seconds \"\n",
    "    \n",
    "    except KeyError:\n",
    "        print(\"-!- KEY ERROR -!-\\n\", event,\"\\n\\nContains an un-Mapped Event. Check script and redefine. Original File has not been changed yet.\\n\\n\")\n",
    "        exit()\n",
    " \n",
    "    return newItem"
   ]
  },
  {
   "cell_type": "code",
   "execution_count": null,
   "id": "b874178e",
   "metadata": {},
   "outputs": [],
   "source": [
    "def convertFile(filePath):\n",
    "    \n",
    "    data = load_json_data_from_file(file_path)\n",
    "    outdata = []\n",
    "    \n",
    "    for item in data:\n",
    "        newItem = addsummary(item)\n",
    "        outdata.append(newItem)\n",
    "            \n",
    "    write_json_data_to_file(filePath,outdata)"
   ]
  },
  {
   "cell_type": "code",
   "execution_count": null,
   "id": "9f06d647",
   "metadata": {},
   "outputs": [],
   "source": [
    "for dataset in range(1,datasets+1):\n",
    "    for person in range(1,persons+1):\n",
    "        file_path = '../data/Dataset_'+str(dataset)+'/User Interactions/'+dataset_names[dataset]+'_P'+str(person)+'_InteractionsLogs.json'\n",
    "        #print(file_path)\n",
    "        convertFile(file_path)"
   ]
  }
 ],
 "metadata": {
  "kernelspec": {
   "display_name": "Python 3 (ipykernel)",
   "language": "python",
   "name": "python3"
  },
  "language_info": {
   "codemirror_mode": {
    "name": "ipython",
    "version": 3
   },
   "file_extension": ".py",
   "mimetype": "text/x-python",
   "name": "python",
   "nbconvert_exporter": "python",
   "pygments_lexer": "ipython3",
   "version": "3.9.16"
  }
 },
 "nbformat": 4,
 "nbformat_minor": 5
}
